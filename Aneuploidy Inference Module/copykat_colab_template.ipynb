{
 "cells": [
  {
   "cell_type": "markdown",
   "id": "eb04b62d",
   "metadata": {},
   "source": [
    "### 📘 How to Use This Notebook with GEO Datasets (Manual Download)\n",
    "\n",
    "To run CNV analysis using **CopyKAT**, you will need to manually download gene expression data from **NCBI GEO (Gene Expression Omnibus)**.\n",
    "\n",
    "#### 📥 Manual Download Instructions\n",
    "\n",
    "1. Visit **[https://www.ncbi.nlm.nih.gov/geo/](https://www.ncbi.nlm.nih.gov/geo/)**  \n",
    "2. Search for your dataset of interest (e.g., `GSE178341`)\n",
    "3. Go to the **“Supplementary files”** section\n",
    "4. Download expression files such as:\n",
    "   - `.h5` (10X Genomics format)\n",
    "   - `.h5ad` (AnnData)\n",
    "   - `.mtx`, `barcodes.tsv`, and `features.tsv`\n",
    "   - or `.csv` if available\n",
    "\n",
    "After downloading, upload the files using the button below to begin preprocessing.\n",
    "\n",
    "---\n",
    "\n",
    "### 🔗 Dataset Selection Tips (Immunova Integration)\n",
    "\n",
    "This notebook is designed to support **Immunova's 4-module pipeline**, especially the **Treatment Response** and **Survival Analysis** modules.\n",
    "\n",
    "To ensure compatibility:\n",
    "\n",
    "- ✅ Select **human tumor datasets** with single-cell resolution  \n",
    "- ✅ Prefer datasets from **immunotherapy-treated patients** or include **TME (tumor microenvironment)** cells  \n",
    "- ✅ Include **T cells, B cells, macrophages**, or **tumor cells** for CopyKAT CNV boundary detection\n",
    "\n",
    "#### Example:\n",
    "- `GSE178341` — Pan-cancer scRNA-seq data (colorectal focus)\n",
    "- `GSE150728`, `GSE120575` — Melanoma or lung tumor microenvironment datasets\n",
    "\n"
   ]
  },
  {
   "cell_type": "markdown",
   "id": "c0d5aa6e",
   "metadata": {},
   "source": [
    "# 🧬 CopyKAT Preprocessing Notebook (Multi-format Compatible)\n",
    "This notebook allows you to upload **any common single-cell RNA-seq expression file format** and convert it to a `gene × cell` matrix that can be used with the **CopyKAT CNV analysis tool in R**.\n",
    "\n",
    "---\n",
    "\n",
    "## ✅ Supported Input Formats\n",
    "- `.h5ad` – AnnData HDF5 format\n",
    "- `.h5` – 10x Genomics HDF5 format\n",
    "- `.mtx` + `barcodes.tsv` + `features.tsv` – Sparse Matrix + Metadata\n",
    "- `.csv` – Generic gene expression table (either genes × cells or cells × genes)\n",
    "\n",
    "Each format is auto-detected, preprocessed, and exported to `adata_for_copykat.csv` for use in CopyKAT.\n"
   ]
  },
  {
   "cell_type": "markdown",
   "id": "0b3ec817",
   "metadata": {},
   "source": [
    "### 🧩 Step 1: Install Required Packages"
   ]
  },
  {
   "cell_type": "code",
   "execution_count": null,
   "id": "94e80539",
   "metadata": {},
   "outputs": [],
   "source": [
    "!pip install scanpy anndata scipy"
   ]
  },
  {
   "cell_type": "markdown",
   "id": "850af65c",
   "metadata": {},
   "source": [
    "### 📥 Step 2: Upload Expression Files"
   ]
  },
  {
   "cell_type": "code",
   "execution_count": null,
   "id": "4d7d4150",
   "metadata": {},
   "outputs": [],
   "source": [
    "from google.colab import files\n",
    "uploaded = files.upload()"
   ]
  },
  {
   "cell_type": "markdown",
   "id": "d0ee8bb6",
   "metadata": {},
   "source": [
    "### 🔍 Step 3: Auto-detect Format and Load Data"
   ]
  },
  {
   "cell_type": "code",
   "execution_count": null,
   "id": "95fdb472",
   "metadata": {},
   "outputs": [],
   "source": [
    "import scanpy as sc\n",
    "import pandas as pd\n",
    "import numpy as np\n",
    "\n",
    "file_names = list(uploaded.keys())\n",
    "adata = None\n",
    "\n",
    "if any(f.endswith('.h5ad') for f in file_names):\n",
    "    f = [x for x in file_names if x.endswith('.h5ad')][0]\n",
    "    print(f\"📘 Detected .h5ad file: {f}\")\n",
    "    adata = sc.read_h5ad(f)\n",
    "\n",
    "elif any(f.endswith('.h5') for f in file_names):\n",
    "    f = [x for x in file_names if x.endswith('.h5')][0]\n",
    "    print(f\"📘 Detected 10X .h5 file: {f}\")\n",
    "    adata = sc.read_10x_h5(f)\n",
    "    adata.var_names_make_unique()\n",
    "\n",
    "elif any(f.endswith('.mtx') for f in file_names):\n",
    "    print(\"📘 Detected 10X .mtx format\")\n",
    "    adata = sc.read_10x_mtx('./', var_names='gene_symbols')\n",
    "    adata.var_names_make_unique()\n",
    "\n",
    "elif any(f.endswith('.csv') for f in file_names):\n",
    "    f = [x for x in file_names if x.endswith('.csv')][0]\n",
    "    print(f\"📘 Detected CSV file: {f}\")\n",
    "    df = pd.read_csv(f, index_col=0)\n",
    "    df = df.T  # Transpose to cells × genes\n",
    "else:\n",
    "    raise ValueError(\"❌ Unsupported or incomplete file set.\")"
   ]
  },
  {
   "cell_type": "markdown",
   "id": "3cb247b7",
   "metadata": {},
   "source": [
    "### 🧬 Step 4: Wrap CSV in AnnData (if used)"
   ]
  },
  {
   "cell_type": "code",
   "execution_count": null,
   "id": "cc73838c",
   "metadata": {},
   "outputs": [],
   "source": [
    "if adata is None and 'df' in locals():\n",
    "    adata = sc.AnnData(X=df.values)\n",
    "    adata.var_names = df.columns\n",
    "    adata.obs_names = df.index\n",
    "    print(\"✅ AnnData object created from CSV.\")"
   ]
  },
  {
   "cell_type": "markdown",
   "id": "8b646f3d",
   "metadata": {},
   "source": [
    "### 💾 Step 5: Convert to CopyKAT-Compatible Format"
   ]
  },
  {
   "cell_type": "code",
   "execution_count": null,
   "id": "997e4683",
   "metadata": {},
   "outputs": [],
   "source": [
    "df_copykat = pd.DataFrame(\n",
    "    adata.X.T.toarray(),\n",
    "    index=adata.var_names,\n",
    "    columns=adata.obs_names\n",
    ")\n",
    "df_copykat.to_csv(\"adata_for_copykat.csv\")\n",
    "print(\"📁 Exported: adata_for_copykat.csv\")"
   ]
  },
  {
   "cell_type": "markdown",
   "id": "deaa610f",
   "metadata": {},
   "source": [
    "### 🧪 Step 6: Set Up R Environment and Install CopyKAT"
   ]
  },
  {
   "cell_type": "code",
   "execution_count": null,
   "id": "adfe58b2",
   "metadata": {},
   "outputs": [],
   "source": [
    "%%capture\n",
    "%%R\n",
    "if (!requireNamespace(\"BiocManager\", quietly = TRUE)) install.packages(\"BiocManager\")\n",
    "BiocManager::install(\"copykat\")\n",
    "install.packages(\"data.table\")"
   ]
  },
  {
   "cell_type": "markdown",
   "id": "69de915c",
   "metadata": {},
   "source": [
    "### 🧬 Step 7: Load Expression Matrix and Run CopyKAT"
   ]
  },
  {
   "cell_type": "code",
   "execution_count": null,
   "id": "900377c9",
   "metadata": {},
   "outputs": [],
   "source": [
    "%%R\n",
    "library(copykat)\n",
    "library(data.table)\n",
    "\n",
    "# Load the gene × cell expression CSV\n",
    "expr <- fread(\"adata_for_copykat.csv\", data.table = FALSE)\n",
    "rownames(expr) <- expr[[1]]\n",
    "expr[[1]] <- NULL\n",
    "\n",
    "# Run CopyKAT\n",
    "result <- copykat(rawmat = expr, id.type = \"S\", sam.name = \"Sample1\")\n",
    "\n",
    "# Save prediction\n",
    "write.csv(result$prediction, \"copykat_prediction.csv\")"
   ]
  },
  {
   "cell_type": "markdown",
   "id": "2f80dfb1",
   "metadata": {},
   "source": [
    "### 💾 Step 8: Download the CopyKAT Prediction Output"
   ]
  },
  {
   "cell_type": "code",
   "execution_count": null,
   "id": "071b417b",
   "metadata": {},
   "outputs": [],
   "source": [
    "from google.colab import files\n",
    "files.download(\"copykat_prediction.csv\")"
   ]
  }
 ],
 "metadata": {},
 "nbformat": 4,
 "nbformat_minor": 5
}
